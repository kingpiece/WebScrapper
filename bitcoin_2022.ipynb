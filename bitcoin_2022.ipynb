{
  "nbformat": 4,
  "nbformat_minor": 0,
  "metadata": {
    "colab": {
      "name": "bitcoin_2022.ipynb",
      "provenance": []
    },
    "kernelspec": {
      "name": "python3",
      "display_name": "Python 3"
    },
    "language_info": {
      "name": "python"
    }
  },
  "cells": [
    {
      "cell_type": "code",
      "execution_count": null,
      "metadata": {
        "id": "ywfXD7nQ5y_a"
      },
      "outputs": [],
      "source": [
        "import pandas as pd\n",
        "import numpy as np\n",
        "import matplotlib.pyplot as plt\n",
        "from keras.models import Sequential\n",
        "from keras.layers import LSTM, Dropout, Dense, Activation\n",
        "from keras.callbacks import TensorBoard, ModelCheckpoint, ReduceLROnPlateau\n",
        "import datetime"
      ]
    },
    {
      "cell_type": "code",
      "source": [
        "data= pd.read_csv('bitcoin_2022.csv')\n",
        "data.head()"
      ],
      "metadata": {
        "colab": {
          "base_uri": "https://localhost:8080/",
          "height": 206
        },
        "id": "G84huhT7ATIc",
        "outputId": "2898e107-5da3-4328-ac30-8bf62434f43a"
      },
      "execution_count": null,
      "outputs": [
        {
          "output_type": "execute_result",
          "data": {
            "text/plain": [
              "        Date     Open*      High       Low   Close**       Volume  \\\n",
              "0  07-Feb-22  42406.78  44401.86  41748.16  43840.29  28641855926   \n",
              "1  08-Feb-22  43854.65  45293.87  42807.84  44118.45  33079398868   \n",
              "2  09-Feb-22  44096.70  44727.80  43232.97  44338.80  23245887300   \n",
              "3  10-Feb-22  44347.80  45661.17  43402.81  43565.11  32142048537   \n",
              "4  11-Feb-22  43571.13  43810.83  42114.54  42407.94  26954925781   \n",
              "\n",
              "     Market Cap  \n",
              "0  8.308390e+11  \n",
              "1  8.361550e+11  \n",
              "2  8.403690e+11  \n",
              "3  8.257450e+11  \n",
              "4  8.038480e+11  "
            ],
            "text/html": [
              "\n",
              "  <div id=\"df-b5016dad-67f6-4295-9aa3-7d31d965cbe9\">\n",
              "    <div class=\"colab-df-container\">\n",
              "      <div>\n",
              "<style scoped>\n",
              "    .dataframe tbody tr th:only-of-type {\n",
              "        vertical-align: middle;\n",
              "    }\n",
              "\n",
              "    .dataframe tbody tr th {\n",
              "        vertical-align: top;\n",
              "    }\n",
              "\n",
              "    .dataframe thead th {\n",
              "        text-align: right;\n",
              "    }\n",
              "</style>\n",
              "<table border=\"1\" class=\"dataframe\">\n",
              "  <thead>\n",
              "    <tr style=\"text-align: right;\">\n",
              "      <th></th>\n",
              "      <th>Date</th>\n",
              "      <th>Open*</th>\n",
              "      <th>High</th>\n",
              "      <th>Low</th>\n",
              "      <th>Close**</th>\n",
              "      <th>Volume</th>\n",
              "      <th>Market Cap</th>\n",
              "    </tr>\n",
              "  </thead>\n",
              "  <tbody>\n",
              "    <tr>\n",
              "      <th>0</th>\n",
              "      <td>07-Feb-22</td>\n",
              "      <td>42406.78</td>\n",
              "      <td>44401.86</td>\n",
              "      <td>41748.16</td>\n",
              "      <td>43840.29</td>\n",
              "      <td>28641855926</td>\n",
              "      <td>8.308390e+11</td>\n",
              "    </tr>\n",
              "    <tr>\n",
              "      <th>1</th>\n",
              "      <td>08-Feb-22</td>\n",
              "      <td>43854.65</td>\n",
              "      <td>45293.87</td>\n",
              "      <td>42807.84</td>\n",
              "      <td>44118.45</td>\n",
              "      <td>33079398868</td>\n",
              "      <td>8.361550e+11</td>\n",
              "    </tr>\n",
              "    <tr>\n",
              "      <th>2</th>\n",
              "      <td>09-Feb-22</td>\n",
              "      <td>44096.70</td>\n",
              "      <td>44727.80</td>\n",
              "      <td>43232.97</td>\n",
              "      <td>44338.80</td>\n",
              "      <td>23245887300</td>\n",
              "      <td>8.403690e+11</td>\n",
              "    </tr>\n",
              "    <tr>\n",
              "      <th>3</th>\n",
              "      <td>10-Feb-22</td>\n",
              "      <td>44347.80</td>\n",
              "      <td>45661.17</td>\n",
              "      <td>43402.81</td>\n",
              "      <td>43565.11</td>\n",
              "      <td>32142048537</td>\n",
              "      <td>8.257450e+11</td>\n",
              "    </tr>\n",
              "    <tr>\n",
              "      <th>4</th>\n",
              "      <td>11-Feb-22</td>\n",
              "      <td>43571.13</td>\n",
              "      <td>43810.83</td>\n",
              "      <td>42114.54</td>\n",
              "      <td>42407.94</td>\n",
              "      <td>26954925781</td>\n",
              "      <td>8.038480e+11</td>\n",
              "    </tr>\n",
              "  </tbody>\n",
              "</table>\n",
              "</div>\n",
              "      <button class=\"colab-df-convert\" onclick=\"convertToInteractive('df-b5016dad-67f6-4295-9aa3-7d31d965cbe9')\"\n",
              "              title=\"Convert this dataframe to an interactive table.\"\n",
              "              style=\"display:none;\">\n",
              "        \n",
              "  <svg xmlns=\"http://www.w3.org/2000/svg\" height=\"24px\"viewBox=\"0 0 24 24\"\n",
              "       width=\"24px\">\n",
              "    <path d=\"M0 0h24v24H0V0z\" fill=\"none\"/>\n",
              "    <path d=\"M18.56 5.44l.94 2.06.94-2.06 2.06-.94-2.06-.94-.94-2.06-.94 2.06-2.06.94zm-11 1L8.5 8.5l.94-2.06 2.06-.94-2.06-.94L8.5 2.5l-.94 2.06-2.06.94zm10 10l.94 2.06.94-2.06 2.06-.94-2.06-.94-.94-2.06-.94 2.06-2.06.94z\"/><path d=\"M17.41 7.96l-1.37-1.37c-.4-.4-.92-.59-1.43-.59-.52 0-1.04.2-1.43.59L10.3 9.45l-7.72 7.72c-.78.78-.78 2.05 0 2.83L4 21.41c.39.39.9.59 1.41.59.51 0 1.02-.2 1.41-.59l7.78-7.78 2.81-2.81c.8-.78.8-2.07 0-2.86zM5.41 20L4 18.59l7.72-7.72 1.47 1.35L5.41 20z\"/>\n",
              "  </svg>\n",
              "      </button>\n",
              "      \n",
              "  <style>\n",
              "    .colab-df-container {\n",
              "      display:flex;\n",
              "      flex-wrap:wrap;\n",
              "      gap: 12px;\n",
              "    }\n",
              "\n",
              "    .colab-df-convert {\n",
              "      background-color: #E8F0FE;\n",
              "      border: none;\n",
              "      border-radius: 50%;\n",
              "      cursor: pointer;\n",
              "      display: none;\n",
              "      fill: #1967D2;\n",
              "      height: 32px;\n",
              "      padding: 0 0 0 0;\n",
              "      width: 32px;\n",
              "    }\n",
              "\n",
              "    .colab-df-convert:hover {\n",
              "      background-color: #E2EBFA;\n",
              "      box-shadow: 0px 1px 2px rgba(60, 64, 67, 0.3), 0px 1px 3px 1px rgba(60, 64, 67, 0.15);\n",
              "      fill: #174EA6;\n",
              "    }\n",
              "\n",
              "    [theme=dark] .colab-df-convert {\n",
              "      background-color: #3B4455;\n",
              "      fill: #D2E3FC;\n",
              "    }\n",
              "\n",
              "    [theme=dark] .colab-df-convert:hover {\n",
              "      background-color: #434B5C;\n",
              "      box-shadow: 0px 1px 3px 1px rgba(0, 0, 0, 0.15);\n",
              "      filter: drop-shadow(0px 1px 2px rgba(0, 0, 0, 0.3));\n",
              "      fill: #FFFFFF;\n",
              "    }\n",
              "  </style>\n",
              "\n",
              "      <script>\n",
              "        const buttonEl =\n",
              "          document.querySelector('#df-b5016dad-67f6-4295-9aa3-7d31d965cbe9 button.colab-df-convert');\n",
              "        buttonEl.style.display =\n",
              "          google.colab.kernel.accessAllowed ? 'block' : 'none';\n",
              "\n",
              "        async function convertToInteractive(key) {\n",
              "          const element = document.querySelector('#df-b5016dad-67f6-4295-9aa3-7d31d965cbe9');\n",
              "          const dataTable =\n",
              "            await google.colab.kernel.invokeFunction('convertToInteractive',\n",
              "                                                     [key], {});\n",
              "          if (!dataTable) return;\n",
              "\n",
              "          const docLinkHtml = 'Like what you see? Visit the ' +\n",
              "            '<a target=\"_blank\" href=https://colab.research.google.com/notebooks/data_table.ipynb>data table notebook</a>'\n",
              "            + ' to learn more about interactive tables.';\n",
              "          element.innerHTML = '';\n",
              "          dataTable['output_type'] = 'display_data';\n",
              "          await google.colab.output.renderOutput(dataTable, element);\n",
              "          const docLink = document.createElement('div');\n",
              "          docLink.innerHTML = docLinkHtml;\n",
              "          element.appendChild(docLink);\n",
              "        }\n",
              "      </script>\n",
              "    </div>\n",
              "  </div>\n",
              "  "
            ]
          },
          "metadata": {},
          "execution_count": 9
        }
      ]
    },
    {
      "cell_type": "code",
      "source": [
        "high_prices = data['High'].values\n",
        "low_prices = data['Low'].values\n",
        "mid_prices = (high_prices + low_prices) / 2"
      ],
      "metadata": {
        "id": "JcWKeuA3Amfz"
      },
      "execution_count": null,
      "outputs": []
    },
    {
      "cell_type": "code",
      "source": [
        "seq_len = 10\n",
        "sequence_length = seq_len+1\n",
        "\n",
        "result=[]\n",
        "for index in range(len(mid_prices) - sequence_length):\n",
        "  result.append(mid_prices[index: index + sequence_length])"
      ],
      "metadata": {
        "id": "KLNc79DUA0WU"
      },
      "execution_count": null,
      "outputs": []
    },
    {
      "cell_type": "code",
      "source": [
        "def normalize_windows(data):\n",
        "    normalized_data = []\n",
        "    for window in data:\n",
        "        normalized_window = [((float(p) / float(window[0])) - 1) for p in window]\n",
        "        normalized_data.append(normalized_window)\n",
        "    return np.array(normalized_data)\n",
        "\n",
        "result = normalize_windows(result)\n",
        "\n",
        "row = int(round(result.shape[0] * 0.9))\n",
        "train = result[:row, :]\n",
        "np.random.shuffle(train)"
      ],
      "metadata": {
        "id": "eiPzTfVXBhxd"
      },
      "execution_count": null,
      "outputs": []
    },
    {
      "cell_type": "code",
      "source": [
        "x_train=train[:,:-1]\n",
        "x_train=np.reshape(x_train, (x_train.shape[0], x_train.shape[1],1))\n",
        "y_train = train[:, -1]\n",
        "\n",
        "x_test = result[row:, :-1]\n",
        "x_test = np.reshape(x_test, (x_test.shape[0], x_test.shape[1], 1))\n",
        "y_test = result[row:, -1]\n",
        "\n",
        "x_train.shape, x_test.shape"
      ],
      "metadata": {
        "colab": {
          "base_uri": "https://localhost:8080/"
        },
        "id": "hciO5BiiC-8F",
        "outputId": "47822351-7ef5-4ab5-c859-5031f828c354"
      },
      "execution_count": null,
      "outputs": [
        {
          "output_type": "execute_result",
          "data": {
            "text/plain": [
              "((104, 10, 1), (12, 10, 1))"
            ]
          },
          "metadata": {},
          "execution_count": 33
        }
      ]
    },
    {
      "cell_type": "code",
      "source": [
        "model = Sequential()\n",
        "model.add(LSTM(50, return_sequences=True, input_shape=(10,1)))\n",
        "model.add(LSTM(64, return_sequences=False))\n",
        "model.add(Dense(1, activation='linear'))\n",
        "model.compile(loss='mse', optimizer='rmsprop')\n",
        "model.summary()"
      ],
      "metadata": {
        "colab": {
          "base_uri": "https://localhost:8080/"
        },
        "id": "O-kPWfWmDSI7",
        "outputId": "a3cbad3e-fa5b-483b-82b3-2ac6c63675f7"
      },
      "execution_count": null,
      "outputs": [
        {
          "output_type": "stream",
          "name": "stdout",
          "text": [
            "Model: \"sequential_2\"\n",
            "_________________________________________________________________\n",
            " Layer (type)                Output Shape              Param #   \n",
            "=================================================================\n",
            " lstm_4 (LSTM)               (None, 10, 50)            10400     \n",
            "                                                                 \n",
            " lstm_5 (LSTM)               (None, 64)                29440     \n",
            "                                                                 \n",
            " dense_2 (Dense)             (None, 1)                 65        \n",
            "                                                                 \n",
            "=================================================================\n",
            "Total params: 39,905\n",
            "Trainable params: 39,905\n",
            "Non-trainable params: 0\n",
            "_________________________________________________________________\n"
          ]
        }
      ]
    },
    {
      "cell_type": "code",
      "source": [
        "start_time = datetime.datetime.now().strftime('%Y_%m_%d_%H_%M_%S')\n",
        "\n",
        "model.fit(x_train, y_train,\n",
        "          validation_data = (x_test, y_test),\n",
        "          batch_size=10,\n",
        "          epochs=20,\n",
        "          callbacks=[TensorBoard(log_dir='logs/%s' % (start_time)), ModelCheckpoint('./models/%s_eth.h5' % (start_time), monitor='val_loss', verbose=1, save_best_only=True, mode='auto'), ReduceLROnPlateau(monitor='val_loss', factor=0.2, patience=5, verbose=1, mode='auto')\n",
        "                     \n",
        "          ])"
      ],
      "metadata": {
        "colab": {
          "base_uri": "https://localhost:8080/"
        },
        "id": "5f3lRVqJEVaB",
        "outputId": "25f0e072-b9b0-4eba-ad53-efbd3395a8d1"
      },
      "execution_count": null,
      "outputs": [
        {
          "output_type": "stream",
          "name": "stdout",
          "text": [
            "Epoch 1/20\n",
            "11/11 [==============================] - ETA: 0s - loss: 0.0077\n",
            "Epoch 1: val_loss improved from inf to 0.00124, saving model to ./models/2022_06_14_16_44_33_eth.h5\n",
            "11/11 [==============================] - 5s 99ms/step - loss: 0.0077 - val_loss: 0.0012 - lr: 0.0010\n",
            "Epoch 2/20\n",
            "11/11 [==============================] - ETA: 0s - loss: 0.0043\n",
            "Epoch 2: val_loss did not improve from 0.00124\n",
            "11/11 [==============================] - 0s 17ms/step - loss: 0.0043 - val_loss: 0.0013 - lr: 0.0010\n",
            "Epoch 3/20\n",
            "10/11 [==========================>...] - ETA: 0s - loss: 0.0035\n",
            "Epoch 3: val_loss did not improve from 0.00124\n",
            "11/11 [==============================] - 0s 17ms/step - loss: 0.0037 - val_loss: 0.0015 - lr: 0.0010\n",
            "Epoch 4/20\n",
            "10/11 [==========================>...] - ETA: 0s - loss: 0.0035\n",
            "Epoch 4: val_loss did not improve from 0.00124\n",
            "11/11 [==============================] - 0s 17ms/step - loss: 0.0035 - val_loss: 0.0018 - lr: 0.0010\n",
            "Epoch 5/20\n",
            "10/11 [==========================>...] - ETA: 0s - loss: 0.0029\n",
            "Epoch 5: val_loss did not improve from 0.00124\n",
            "11/11 [==============================] - 0s 17ms/step - loss: 0.0029 - val_loss: 0.0037 - lr: 0.0010\n",
            "Epoch 6/20\n",
            "10/11 [==========================>...] - ETA: 0s - loss: 0.0035\n",
            "Epoch 6: val_loss improved from 0.00124 to 0.00086, saving model to ./models/2022_06_14_16_44_33_eth.h5\n",
            "11/11 [==============================] - 0s 19ms/step - loss: 0.0034 - val_loss: 8.5755e-04 - lr: 0.0010\n",
            "Epoch 7/20\n",
            "10/11 [==========================>...] - ETA: 0s - loss: 0.0026\n",
            "Epoch 7: val_loss improved from 0.00086 to 0.00082, saving model to ./models/2022_06_14_16_44_33_eth.h5\n",
            "11/11 [==============================] - 0s 20ms/step - loss: 0.0025 - val_loss: 8.1861e-04 - lr: 0.0010\n",
            "Epoch 8/20\n",
            "11/11 [==============================] - ETA: 0s - loss: 0.0026\n",
            "Epoch 8: val_loss did not improve from 0.00082\n",
            "11/11 [==============================] - 0s 17ms/step - loss: 0.0026 - val_loss: 8.8553e-04 - lr: 0.0010\n",
            "Epoch 9/20\n",
            "10/11 [==========================>...] - ETA: 0s - loss: 0.0023\n",
            "Epoch 9: val_loss did not improve from 0.00082\n",
            "11/11 [==============================] - 0s 16ms/step - loss: 0.0022 - val_loss: 8.3481e-04 - lr: 0.0010\n",
            "Epoch 10/20\n",
            "11/11 [==============================] - ETA: 0s - loss: 0.0021\n",
            "Epoch 10: val_loss did not improve from 0.00082\n",
            "11/11 [==============================] - 0s 17ms/step - loss: 0.0021 - val_loss: 9.8691e-04 - lr: 0.0010\n",
            "Epoch 11/20\n",
            "10/11 [==========================>...] - ETA: 0s - loss: 0.0019\n",
            "Epoch 11: val_loss did not improve from 0.00082\n",
            "\n",
            "Epoch 11: ReduceLROnPlateau reducing learning rate to 0.00020000000949949026.\n",
            "11/11 [==============================] - 0s 16ms/step - loss: 0.0019 - val_loss: 0.0016 - lr: 0.0010\n",
            "Epoch 12/20\n",
            " 8/11 [====================>.........] - ETA: 0s - loss: 0.0020\n",
            "Epoch 12: val_loss did not improve from 0.00082\n",
            "11/11 [==============================] - 0s 19ms/step - loss: 0.0019 - val_loss: 9.4937e-04 - lr: 2.0000e-04\n",
            "Epoch 13/20\n",
            "10/11 [==========================>...] - ETA: 0s - loss: 0.0017\n",
            "Epoch 13: val_loss did not improve from 0.00082\n",
            "11/11 [==============================] - 0s 16ms/step - loss: 0.0017 - val_loss: 9.8227e-04 - lr: 2.0000e-04\n",
            "Epoch 14/20\n",
            "10/11 [==========================>...] - ETA: 0s - loss: 0.0017\n",
            "Epoch 14: val_loss did not improve from 0.00082\n",
            "11/11 [==============================] - 0s 17ms/step - loss: 0.0017 - val_loss: 9.5348e-04 - lr: 2.0000e-04\n",
            "Epoch 15/20\n",
            "11/11 [==============================] - ETA: 0s - loss: 0.0017\n",
            "Epoch 15: val_loss did not improve from 0.00082\n",
            "11/11 [==============================] - 0s 16ms/step - loss: 0.0017 - val_loss: 9.6520e-04 - lr: 2.0000e-04\n",
            "Epoch 16/20\n",
            "10/11 [==========================>...] - ETA: 0s - loss: 0.0016\n",
            "Epoch 16: val_loss did not improve from 0.00082\n",
            "\n",
            "Epoch 16: ReduceLROnPlateau reducing learning rate to 4.0000001899898055e-05.\n",
            "11/11 [==============================] - 0s 16ms/step - loss: 0.0017 - val_loss: 9.7206e-04 - lr: 2.0000e-04\n",
            "Epoch 17/20\n",
            "10/11 [==========================>...] - ETA: 0s - loss: 0.0016\n",
            "Epoch 17: val_loss did not improve from 0.00082\n",
            "11/11 [==============================] - 0s 17ms/step - loss: 0.0016 - val_loss: 9.7682e-04 - lr: 4.0000e-05\n",
            "Epoch 18/20\n",
            "10/11 [==========================>...] - ETA: 0s - loss: 0.0016\n",
            "Epoch 18: val_loss did not improve from 0.00082\n",
            "11/11 [==============================] - 0s 17ms/step - loss: 0.0016 - val_loss: 9.7637e-04 - lr: 4.0000e-05\n",
            "Epoch 19/20\n",
            " 9/11 [=======================>......] - ETA: 0s - loss: 0.0018\n",
            "Epoch 19: val_loss did not improve from 0.00082\n",
            "11/11 [==============================] - 0s 16ms/step - loss: 0.0016 - val_loss: 9.7976e-04 - lr: 4.0000e-05\n",
            "Epoch 20/20\n",
            "11/11 [==============================] - ETA: 0s - loss: 0.0016\n",
            "Epoch 20: val_loss did not improve from 0.00082\n",
            "11/11 [==============================] - 0s 15ms/step - loss: 0.0016 - val_loss: 9.8825e-04 - lr: 4.0000e-05\n"
          ]
        },
        {
          "output_type": "execute_result",
          "data": {
            "text/plain": [
              "<keras.callbacks.History at 0x7f804c833710>"
            ]
          },
          "metadata": {},
          "execution_count": 37
        }
      ]
    },
    {
      "cell_type": "code",
      "source": [
        "pred = model.predict(x_test)\n",
        "\n",
        "fig=plt.figure(facecolor='white', figsize=(10,5))\n",
        "ax=fig.add_subplot(111)\n",
        "ax.plot(y_test, label='True')\n",
        "ax.plot(pred, label='Prediction')\n",
        "ax.legend()\n",
        "plt.show()"
      ],
      "metadata": {
        "colab": {
          "base_uri": "https://localhost:8080/",
          "height": 320
        },
        "id": "vB6LLnJKE28j",
        "outputId": "33815d20-f10e-4a2a-bf8d-40b92b93925d"
      },
      "execution_count": null,
      "outputs": [
        {
          "output_type": "display_data",
          "data": {
            "text/plain": [
              "<Figure size 720x360 with 1 Axes>"
            ],
            "image/png": "[encoded data removed]"
          },
          "metadata": {}
        }
      ]
    },
    {
      "cell_type": "code",
      "source": [
        ""
      ],
      "metadata": {
        "id": "uw9iuf5xFMO_"
      },
      "execution_count": null,
      "outputs": []
    }
  ]
}