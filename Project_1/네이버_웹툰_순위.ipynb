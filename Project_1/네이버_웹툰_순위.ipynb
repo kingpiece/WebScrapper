{
  "nbformat": 4,
  "nbformat_minor": 0,
  "metadata": {
    "colab": {
      "name": "네이버 웹툰 순위",
      "provenance": []
    },
    "kernelspec": {
      "name": "python3",
      "display_name": "Python 3"
    },
    "language_info": {
      "name": "python"
    }
  },
  "cells": [
    {
      "cell_type": "code",
      "execution_count": 1,
      "metadata": {
        "colab": {
          "base_uri": "https://localhost:8080/"
        },
        "id": "4jZdfOdChFTq",
        "outputId": "cf5ff48a-6732-499c-cc85-a87d5790ffca"
      },
      "outputs": [
        {
          "output_type": "stream",
          "name": "stdout",
          "text": [
            "1위:외모지상주의-400화 호스텔 잡기 [02]\n",
            "2위:재혼 황후-122화(시즌2 마지막 화)\n",
            "3위:어쩌다보니 천생연분-23화 기분만 내는거야\n",
            "4위:나 혼자 만렙 뉴비-51화. 오대세가(1)\n",
            "5위:이터널 포스-11화\n",
            "6위:광마회귀-52화\n",
            "7위:죽지 않으려면-61화\n",
            "8위:갓 오브 하이스쿨-554화\n",
            "9위:개를 낳았다-시즌2 105화\n",
            "10위:1초-174화 최종시험 (6)\n"
          ]
        }
      ],
      "source": [
        "import csv\n",
        "import requests\n",
        "from bs4 import BeautifulSoup\n",
        "\n",
        "url=\"https://comic.naver.com/webtoon/weekday\"\n",
        "\n",
        "filename = \"네이버 웹툰 인기 순위.csv\"\n",
        "f = open(filename, \"w\", encoding=\"utf-8-sig\", newline=\"\")\n",
        "writer = csv.writer(f)\n",
        "\n",
        "columns_name = [\"순위\", \"웹툰명\"]\n",
        "\n",
        "writer.writerow(columns_name)\n",
        "\n",
        "res = requests.get(url)\n",
        "res.raise_for_status()\n",
        "\n",
        "soup = BeautifulSoup(res.text, \"lxml\")\n",
        "cartoonsBox = soup.find('ol', attrs={\"class\": \"asideBoxRank\"})\n",
        "cartoons = cartoonsBox.find_all('a')\n",
        "\n",
        "i = 1\n",
        "\n",
        "for cartoon in cartoons:\n",
        "  title = cartoon.get(\"title\")\n",
        "  print(f\"{str(i)}위:{title}\")\n",
        "  data = [str(i),title]\n",
        "  writer.writerow(data)\n",
        "  i+=1"
      ]
    },
    {
      "cell_type": "code",
      "source": [
        ""
      ],
      "metadata": {
        "id": "A430B8CDmcph"
      },
      "execution_count": null,
      "outputs": []
    }
  ]
}
